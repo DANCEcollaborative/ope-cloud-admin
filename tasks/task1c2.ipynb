{
 "cells": [
  {
   "cell_type": "markdown",
   "id": "e5d82c0c-5f95-4069-97f0-686c69b586d9",
   "metadata": {},
   "source": [
    "**CONSIDER THIS APPROACH:** \n",
    "You can aggregate workload and performance measures over longer periods of time: Since the workload is declining slowly and steadily, there is less change from moment to moment.\n",
    "\n",
    "**Is there anything you would change about your policy? Discuss, and revise your response above if appropriate.** "
   ]
  }
 ],
 "metadata": {
  "kernelspec": {
   "display_name": "Python 3 (ipykernel)",
   "language": "python",
   "name": "python3"
  },
  "language_info": {
   "codemirror_mode": {
    "name": "ipython",
    "version": 3
   },
   "file_extension": ".py",
   "mimetype": "text/x-python",
   "name": "python",
   "nbconvert_exporter": "python",
   "pygments_lexer": "ipython3",
   "version": "3.11.4"
  }
 },
 "nbformat": 4,
 "nbformat_minor": 5
}
