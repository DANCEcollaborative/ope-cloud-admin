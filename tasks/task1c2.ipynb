{
 "cells": [
  {
   "cell_type": "markdown",
   "id": "e5d82c0c-5f95-4069-97f0-686c69b586d9",
   "metadata": {},
   "source": [
    "# **Here's a hint** \n",
    "You can aggregate workload and performance measures over longer periods of time: Since the workload is declining slowly and steadily, there is less change from moment to moment.\n",
    "\n",
    "## **Based on this hint, would you change your response?** \n",
    "* If so, enter your revised response below. If you wish, you can copy your previous answer into the space to revise it. \n",
    "* If not, enter “No” below."
   ]
  },
  {
   "cell_type": "markdown",
   "id": "5eecc573-8cd9-4ad4-b0cf-e917ad4edb73",
   "metadata": {},
   "source": [
    "Double-click ***here*** to add your response between the lines. Feel free to expand the space. To save your work, press *simultaneously* (1) the control key and (2) the enter or return key. \n",
    "- - -\n",
    "\n",
    "\n",
    "\n",
    "\n",
    "\n",
    "\n",
    "- - -"
   ]
  }
 ],
 "metadata": {
  "kernelspec": {
   "display_name": "Python 3 (ipykernel)",
   "language": "python",
   "name": "python3"
  },
  "language_info": {
   "codemirror_mode": {
    "name": "ipython",
    "version": 3
   },
   "file_extension": ".py",
   "mimetype": "text/x-python",
   "name": "python",
   "nbconvert_exporter": "python",
   "pygments_lexer": "ipython3",
   "version": "3.11.4"
  }
 },
 "nbformat": 4,
 "nbformat_minor": 5
}
