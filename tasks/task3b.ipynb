{
 "cells": [
  {
   "cell_type": "markdown",
   "id": "e5d82c0c-5f95-4069-97f0-686c69b586d9",
   "metadata": {},
   "source": [
    "#### *We typically adjust the number of VMs by a small amount to make a small adjustment to capacity, or by a large amount to make a large adjustment.*\n",
    "\n",
    "### **Scenario 3, Question 2 of 4**\n",
    "\n",
    "### **When you scale in or out, should you adjust the number of VMs by a little or a lot?** "
   ]
  },
  {
   "cell_type": "markdown",
   "id": "8f591536-1120-4922-b8d5-fb0e6db6f102",
   "metadata": {
    "tags": [
     "task3b"
    ]
   },
   "source": [
    "Double-click ***here*** to add your response between the lines. Feel free to expand the space. To save your work, press *simultaneously* (1) the control key and (2) the enter or return key. \n",
    "- - -\n",
    "\n",
    "\n",
    "\n",
    "\n",
    "\n",
    "\n",
    "- - -"
   ]
  }
 ],
 "metadata": {
  "kernelspec": {
   "display_name": "Python 3 (ipykernel)",
   "language": "python",
   "name": "python3"
  },
  "language_info": {
   "codemirror_mode": {
    "name": "ipython",
    "version": 3
   },
   "file_extension": ".py",
   "mimetype": "text/x-python",
   "name": "python",
   "nbconvert_exporter": "python",
   "pygments_lexer": "ipython3",
   "version": "3.11.4"
  }
 },
 "nbformat": 4,
 "nbformat_minor": 5
}
