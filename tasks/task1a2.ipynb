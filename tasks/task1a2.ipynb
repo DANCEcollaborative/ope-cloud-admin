{
 "cells": [
  {
   "cell_type": "markdown",
   "id": "e5d82c0c-5f95-4069-97f0-686c69b586d9",
   "metadata": {},
   "source": [
    "**CONSIDER THIS APPROACH:** \n",
    "Since the decline in your VMs’ workload is steady, it is predictable, so you can use predictive autoscaling. Predictive autoscaling is faster since you don’t have to wait for metrics and then for additional resources to spool up. Predictive autoscaling can also be cheaper since it does not require resources for monitoring. However, you will also need reactive scaling to handle unexpected events.\n",
    "\n",
    "**Based on these considerations, would you change anything about your policy? If so, what? Discuss, and revise your response above if appropriate.**"
   ]
  }
 ],
 "metadata": {
  "kernelspec": {
   "display_name": "Python 3 (ipykernel)",
   "language": "python",
   "name": "python3"
  },
  "language_info": {
   "codemirror_mode": {
    "name": "ipython",
    "version": 3
   },
   "file_extension": ".py",
   "mimetype": "text/x-python",
   "name": "python",
   "nbconvert_exporter": "python",
   "pygments_lexer": "ipython3",
   "version": "3.11.4"
  }
 },
 "nbformat": 4,
 "nbformat_minor": 5
}
