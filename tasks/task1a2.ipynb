{
 "cells": [
  {
   "cell_type": "markdown",
   "id": "e5d82c0c-5f95-4069-97f0-686c69b586d9",
   "metadata": {},
   "source": [
    "# **Here's a hint** \n",
    "Since the decline in your VMs’ workload is steady, it is predictable, so you can use predictive autoscaling. Predictive autoscaling is faster since you don’t have to wait for metrics and then for the scaled-in resources to wind down. Predictive autoscaling can also be cheaper since it does not require resources for monitoring. However, you will also need reactive scaling in case your predictions are wrong and to handle unexpected events.\n",
    "\n",
    "## **Based on this hint, would you change your response to the above?** \n",
    "* If so, enter your revised response below. If you wish, you can copy-paste your previous response to revise it. \n",
    "* If not, enter “No” in the space below."
   ]
  },
  {
   "cell_type": "markdown",
   "id": "3da1006a-baf8-4efc-94d3-afa33e03e8ce",
   "metadata": {},
   "source": [
    "Double-click ***here*** to add your response between the lines. Feel free to expand the space. To save your work, press *simultaneously* (1) the control key and (2) the enter or return key. \n",
    "- - -\n",
    "\n",
    "\n",
    "\n",
    "\n",
    "\n",
    "\n",
    "- - -"
   ]
  }
 ],
 "metadata": {
  "kernelspec": {
   "display_name": "Python 3 (ipykernel)",
   "language": "python",
   "name": "python3"
  },
  "language_info": {
   "codemirror_mode": {
    "name": "ipython",
    "version": 3
   },
   "file_extension": ".py",
   "mimetype": "text/x-python",
   "name": "python",
   "nbconvert_exporter": "python",
   "pygments_lexer": "ipython3",
   "version": "3.11.4"
  }
 },
 "nbformat": 4,
 "nbformat_minor": 5
}
