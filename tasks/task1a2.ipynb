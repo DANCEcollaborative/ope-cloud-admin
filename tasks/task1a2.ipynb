{
 "cells": [
  {
   "cell_type": "markdown",
   "id": "e5d82c0c-5f95-4069-97f0-686c69b586d9",
   "metadata": {},
   "source": [
    "# **Here's a hint** \n",
    "Since the decline in your VMs’ workload is steady, it is predictable, so you can use predictive autoscaling. Predictive autoscaling is faster since you don’t have to wait for metrics and then for the scaled-in resources to wind down. Predictive autoscaling can also be cheaper since it does not require resources for monitoring. However, you will also need reactive scaling in case your predictions are wrong and to handle unexpected events.\n",
    "\n",
    "**Based on this hint, would you change your answer?** \n",
    "* If so, enter your revised answer below. If you wish, you can copy-paste your previous answer to revise it. \n",
    "* If not, enter “No” in the space below."
   ]
  }
 ],
 "metadata": {
  "kernelspec": {
   "display_name": "Python 3 (ipykernel)",
   "language": "python",
   "name": "python3"
  },
  "language_info": {
   "codemirror_mode": {
    "name": "ipython",
    "version": 3
   },
   "file_extension": ".py",
   "mimetype": "text/x-python",
   "name": "python",
   "nbconvert_exporter": "python",
   "pygments_lexer": "ipython3",
   "version": "3.11.4"
  }
 },
 "nbformat": 4,
 "nbformat_minor": 5
}
