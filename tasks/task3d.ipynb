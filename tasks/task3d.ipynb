{
 "cells": [
  {
   "cell_type": "markdown",
   "id": "e5d82c0c-5f95-4069-97f0-686c69b586d9",
   "metadata": {},
   "source": [
    "#### *We’re always trading off cost and performance. Think about how to minimize costs while scaling in when needed and scaling out when needed.*\n",
    "\n",
    "### **Scenario 3, Question 4 of 4**\n",
    "\n",
    "### **As you scale in and out, how can you minimize costs while maintaining sufficient performance? Decide on a general plan.**"
   ]
  },
  {
   "cell_type": "markdown",
   "id": "55b2b8e2-f403-4662-9328-bad637485fa9",
   "metadata": {},
   "source": [
    "Double-click ***here*** to add your response between the lines. Feel free to expand the space. To save your work, press *simultaneously* (1) the control key and (2) the enter or return key. \n",
    "- - -\n",
    "\n",
    "\n",
    "\n",
    "\n",
    "\n",
    "\n",
    "- - -"
   ]
  }
 ],
 "metadata": {
  "kernelspec": {
   "display_name": "Python 3 (ipykernel)",
   "language": "python",
   "name": "python3"
  },
  "language_info": {
   "codemirror_mode": {
    "name": "ipython",
    "version": 3
   },
   "file_extension": ".py",
   "mimetype": "text/x-python",
   "name": "python",
   "nbconvert_exporter": "python",
   "pygments_lexer": "ipython3",
   "version": "3.11.4"
  }
 },
 "nbformat": 4,
 "nbformat_minor": 5
}
