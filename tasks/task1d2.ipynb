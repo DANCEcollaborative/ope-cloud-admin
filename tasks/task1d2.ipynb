{
 "cells": [
  {
   "cell_type": "markdown",
   "id": "e5d82c0c-5f95-4069-97f0-686c69b586d9",
   "metadata": {},
   "source": [
    "# **Here's a hint** \n",
    "You can minimize costs by scaling in using small decrements as often as possible while maintaining sufficient performance. If you scale-in too early, you may be able to throttle for a while by delaying activity reports.\n",
    "\n",
    "## **Based on this hint, would you change your answer?** \n",
    "* If so, enter your revised answer below. If you wish, you can copy your previous answer into the space to revise it. \n",
    "* If not, enter “No” below."
   ]
  },
  {
   "cell_type": "markdown",
   "id": "fbe6578c-ad19-42eb-a492-5daaf7cbc2de",
   "metadata": {},
   "source": [
    "Double-click ***here*** to add your response between the lines. Feel free to expand the space. Press *simultaneously* (1) the control key and (2) the enter or return key to save your work. \n",
    "- - -\n",
    "\n",
    "\n",
    "\n",
    "\n",
    "\n",
    "\n",
    "- - -"
   ]
  }
 ],
 "metadata": {
  "kernelspec": {
   "display_name": "Python 3 (ipykernel)",
   "language": "python",
   "name": "python3"
  },
  "language_info": {
   "codemirror_mode": {
    "name": "ipython",
    "version": 3
   },
   "file_extension": ".py",
   "mimetype": "text/x-python",
   "name": "python",
   "nbconvert_exporter": "python",
   "pygments_lexer": "ipython3",
   "version": "3.11.4"
  }
 },
 "nbformat": 4,
 "nbformat_minor": 5
}
