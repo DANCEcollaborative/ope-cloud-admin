{
 "cells": [
  {
   "cell_type": "markdown",
   "id": "e5d82c0c-5f95-4069-97f0-686c69b586d9",
   "metadata": {},
   "source": [
    "**CONSIDER THIS APPROACH:** \n",
    "You can minimize costs by scaling in using small decrements as often as possible while maintaining sufficient performance. If you scale-in too early, you may be able to throttle for a while by delaying activity reports.\n",
    "\n",
    "**Would you like to change anything about your policy? Discuss, and revise your response above if appropriate.** "
   ]
  }
 ],
 "metadata": {
  "kernelspec": {
   "display_name": "Python 3 (ipykernel)",
   "language": "python",
   "name": "python3"
  },
  "language_info": {
   "codemirror_mode": {
    "name": "ipython",
    "version": 3
   },
   "file_extension": ".py",
   "mimetype": "text/x-python",
   "name": "python",
   "nbconvert_exporter": "python",
   "pygments_lexer": "ipython3",
   "version": "3.11.4"
  }
 },
 "nbformat": 4,
 "nbformat_minor": 5
}
