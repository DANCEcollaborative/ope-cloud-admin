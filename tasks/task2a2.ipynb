{
 "cells": [
  {
   "cell_type": "markdown",
   "id": "e5d82c0c-5f95-4069-97f0-686c69b586d9",
   "metadata": {},
   "source": [
    "**CONSIDER THIS APPROACH:** \n",
    "You will need to use reactive autoscaling to respond to sudden, sustained increases in workload. If you have information about when new vendors will come online and what their traffic will be, you can also use predictive autoscaling, which would enable you to scale out in time to meet increases in workload. With only reactive autoscaling, your service might under-perform as you wait for your metrics to indicate a need and then wait for the resources to spool up.\n",
    "\n",
    "**Based on these considerations, would you change anything about your policy? If so, what? Discuss, and revise your response above if appropriate.** "
   ]
  }
 ],
 "metadata": {
  "kernelspec": {
   "display_name": "Python 3 (ipykernel)",
   "language": "python",
   "name": "python3"
  },
  "language_info": {
   "codemirror_mode": {
    "name": "ipython",
    "version": 3
   },
   "file_extension": ".py",
   "mimetype": "text/x-python",
   "name": "python",
   "nbconvert_exporter": "python",
   "pygments_lexer": "ipython3",
   "version": "3.11.4"
  }
 },
 "nbformat": 4,
 "nbformat_minor": 5
}
