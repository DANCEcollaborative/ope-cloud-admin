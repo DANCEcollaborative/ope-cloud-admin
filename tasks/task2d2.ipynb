{
 "cells": [
  {
   "cell_type": "markdown",
   "id": "e5d82c0c-5f95-4069-97f0-686c69b586d9",
   "metadata": {},
   "source": [
    "# **Here's a hint** \n",
    "You can use historical workload data to estimate how much to scale out at time. Or if you know about the vendors coming online, you can use information about them to estimate how much to scale out. You can use short metric aggregation periods to know when to scale back in if you scale out too much. While waiting for scaling out to take effect, you can throttle to preserve resources by delaying transaction reports and bill generation.\n",
    "\n",
    "## **Based on this hint, would you change your response to the above?** \n",
    "* If so, enter your revised response below. If you wish, you can copy-paste your previous response to revise it. \n",
    "* If not, enter “No” in the space below."
   ]
  },
  {
   "cell_type": "markdown",
   "id": "de9a8a63-2d5d-4cb1-a22c-dcf048d0f2d3",
   "metadata": {
    "tags": [
     "task2d2"
    ]
   },
   "source": [
    "Double-click ***here*** to add your response between the lines. Feel free to expand the space. To save your work, press *simultaneously* (1) the control key and (2) the enter or return key. \n",
    "- - -\n",
    "\n",
    "\n",
    "\n",
    "\n",
    "\n",
    "\n",
    "- - -"
   ]
  }
 ],
 "metadata": {
  "kernelspec": {
   "display_name": "Python 3 (ipykernel)",
   "language": "python",
   "name": "python3"
  },
  "language_info": {
   "codemirror_mode": {
    "name": "ipython",
    "version": 3
   },
   "file_extension": ".py",
   "mimetype": "text/x-python",
   "name": "python",
   "nbconvert_exporter": "python",
   "pygments_lexer": "ipython3",
   "version": "3.11.4"
  }
 },
 "nbformat": 4,
 "nbformat_minor": 5
}
