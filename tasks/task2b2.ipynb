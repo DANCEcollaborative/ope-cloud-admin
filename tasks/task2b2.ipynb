{
 "cells": [
  {
   "cell_type": "markdown",
   "id": "e5d82c0c-5f95-4069-97f0-686c69b586d9",
   "metadata": {},
   "source": [
    "**CONSIDER THIS APPROACH:** \n",
    "Your workload increases in large jumps, so you will need to scale out aggressively (in large steps) to handle the sustained increases. If you scale out too much, you can scale in after a while by smaller amounts to more accurately tune your capacity to the workload.\n",
    "\n",
    "**Do these considerations prompt you to change anything about your policy? If so, what? Discuss, and revise your response below if appropriate.** \n",
    "\n",
    "***Double-click on this cell to edit it and revise your response***. \n",
    "\n",
    "\n",
    "\n",
    "\n",
    "\n",
    "\n",
    "       \n",
    "\n",
    "\n",
    "\n",
    "\n",
    "\n",
    "       \n",
    "\n",
    "\n",
    "  "
   ]
  }
 ],
 "metadata": {
  "kernelspec": {
   "display_name": "Python 3 (ipykernel)",
   "language": "python",
   "name": "python3"
  },
  "language_info": {
   "codemirror_mode": {
    "name": "ipython",
    "version": 3
   },
   "file_extension": ".py",
   "mimetype": "text/x-python",
   "name": "python",
   "nbconvert_exporter": "python",
   "pygments_lexer": "ipython3",
   "version": "3.11.4"
  }
 },
 "nbformat": 4,
 "nbformat_minor": 5
}
