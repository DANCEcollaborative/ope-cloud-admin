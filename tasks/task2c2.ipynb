{
 "cells": [
  {
   "cell_type": "markdown",
   "metadata": {},
   "source": [
    "# **Here's a hint** \n",
    "Your workload can increase quite quickly by a significant amount, so your metrics will need to use short aggregation periods in order to detect increases quickly.\n",
    "\n",
    "## **Based on this hint, would you change your response to the above?** \n",
    "* If so, enter your revised response below. If you wish, you can copy-paste your previous response to revise it. \n",
    "* If not, enter “No” in the space below."
   ]
  },
  {
   "cell_type": "markdown",
   "metadata": {
    "tags": [
     "task2c2"
    ]
   },
   "source": [
    "Double-click ***here*** to add your response between the lines. Feel free to expand the space. To save your work, press *simultaneously* (1) the control key and (2) the enter or return key. \n",
    "- - -\n",
    "\n",
    "\n",
    "\n",
    "\n",
    "\n",
    "\n",
    "- - -"
   ]
  }
 ],
 "metadata": {
  "kernelspec": {
   "display_name": "Python 3 (ipykernel)",
   "language": "python",
   "name": "python3"
  },
  "language_info": {
   "codemirror_mode": {
    "name": "ipython",
    "version": 3
   },
   "file_extension": ".py",
   "mimetype": "text/x-python",
   "name": "python",
   "nbconvert_exporter": "python",
   "pygments_lexer": "ipython3",
   "version": "3.11.4"
  }
 },
 "nbformat": 4,
 "nbformat_minor": 5
}
