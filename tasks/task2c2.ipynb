{
 "cells": [
  {
   "cell_type": "markdown",
   "id": "e5d82c0c-5f95-4069-97f0-686c69b586d9",
   "metadata": {},
   "source": [
    "# **Here's a hint** \n",
    "Your workload can increase quite quickly by a significant amount, so your metrics will need to use short aggregation periods in order to detect increases quickly.\n",
    "\n",
    "**Based on this hint, would you change your response?** \n",
    "* If so, enter your revised response below. If you wish, you can copy-paste your previous response to revise it. \n",
    "* If not, enter “No” in the space below."
   ]
  }
 ],
 "metadata": {
  "kernelspec": {
   "display_name": "Python 3 (ipykernel)",
   "language": "python",
   "name": "python3"
  },
  "language_info": {
   "codemirror_mode": {
    "name": "ipython",
    "version": 3
   },
   "file_extension": ".py",
   "mimetype": "text/x-python",
   "name": "python",
   "nbconvert_exporter": "python",
   "pygments_lexer": "ipython3",
   "version": "3.11.4"
  }
 },
 "nbformat": 4,
 "nbformat_minor": 5
}
