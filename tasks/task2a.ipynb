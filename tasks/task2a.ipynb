{
 "cells": [
  {
   "cell_type": "markdown",
   "id": "e5d82c0c-5f95-4069-97f0-686c69b586d9",
   "metadata": {},
   "source": [
    "#### *We use predictive autoscaling when we can make predictions about the VM resources we will need. We use reactive autoscaling when we cannot accurately predict resource needs, and when changes in resource needs may occur unexpectedly.*\n",
    "\n",
    "### **Scenario 2, Question 1 of 4**\n",
    "\n",
    "### **For this scenario, would you use predictive autoscaling, reactive autoscaling, or both? Explain your choices.**"
   ]
  },
  {
   "cell_type": "markdown",
   "id": "be25e338-2e93-4a47-853c-a484a2d5a5b1",
   "metadata": {
    "tags": [
     "task2a"
    ]
   },
   "source": [
    "Double-click ***here*** to add your response between the lines. Feel free to expand the space. To save your work, press *simultaneously* (1) the control key and (2) the enter or return key. \n",
    "- - -\n",
    "\n",
    "\n",
    "\n",
    "\n",
    "\n",
    "\n",
    "- - -"
   ]
  }
 ],
 "metadata": {
  "kernelspec": {
   "display_name": "Python 3 (ipykernel)",
   "language": "python",
   "name": "python3"
  },
  "language_info": {
   "codemirror_mode": {
    "name": "ipython",
    "version": 3
   },
   "file_extension": ".py",
   "mimetype": "text/x-python",
   "name": "python",
   "nbconvert_exporter": "python",
   "pygments_lexer": "ipython3",
   "version": "3.11.4"
  }
 },
 "nbformat": 4,
 "nbformat_minor": 5
}
