{
 "cells": [
  {
   "cell_type": "markdown",
   "metadata": {},
   "source": [
    "#### *We use predictive autoscaling when we can make predictions about the VM resources we will need. We use reactive autoscaling when we cannot accurately predict resource needs, and when changes in resource needs may occur unexpectedly.*\n",
    "\n",
    "### **Scenario 2, Question 1 of 4**\n",
    "\n",
    "### **For this scenario, would you use predictive autoscaling, reactive autoscaling, or both? Explain your choices.**"
   ]
  },
  {
   "cell_type": "markdown",
   "metadata": {
    "tags": [
     "task2a"
    ]
   },
   "source": [
    "Double-click ***here*** to add your response between the lines. Feel free to expand the space. To save your work, press *simultaneously* (1) the control key and (2) the enter or return key. \n",
    "- - -\n",
    "\n",
    "\n",
    "\n",
    "\n",
    "\n",
    "\n",
    "- - -"
   ]
  }
 ],
 "metadata": {
  "kernelspec": {
   "display_name": "Python 3 (ipykernel)",
   "language": "python",
   "name": "python3"
  },
  "language_info": {
   "codemirror_mode": {
    "name": "ipython",
    "version": 3
   },
   "file_extension": ".py",
   "mimetype": "text/x-python",
   "name": "python",
   "nbconvert_exporter": "python",
   "pygments_lexer": "ipython3",
   "version": "3.11.4"
  }
 },
 "nbformat": 4,
 "nbformat_minor": 5
}
