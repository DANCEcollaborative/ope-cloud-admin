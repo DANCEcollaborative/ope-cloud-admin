{
 "cells": [
  {
   "attachments": {},
   "cell_type": "markdown",
   "metadata": {},
   "source": [
    "## Task 2\n",
    "\n",
    "You will unlock the next task after you pass the testcase.\n",
    "\n",
    "**Note**:\n",
    "* You should **only paste your SELECT query into the solution cell** below. All other querys and experiments should be done through the terminal on the database.\n",
    "* You do not need to create new cells for the task. However, if you do create new cells **DO NOT** add any tags to them."
   ]
  },
  {
   "cell_type": "markdown",
   "metadata": {},
   "source": [
    "### Scenario\n",
    "\n",
    "Design an SQL schema and queries for searching employees with certain titles in a department. Your query must return\n",
    "the `emp_no`, `first_name` and `last_name`for all employees from the `Customer Service` Department with the\n",
    "title `Senior Engineer`. The source data will come from three tables: `employees`, `dept_emp_list` and `titles`. The SQL\n",
    "statement of the query to optimize is:\n",
    "\n",
    "```\n",
    "SELECT employees.emp_no, employees.first_name, employees.last_name\n",
    "FROM employees\n",
    "INNER JOIN dept_emp_list ON employees.emp_no=dept_emp_list.emp_no\n",
    "INNER JOIN titles ON dept_emp_list.emp_no=titles.emp_no \n",
    "WHERE dept_emp_list.dept_name=\"Customer Service\" && titles.title=\"Senior Engineer\";\n",
    "```\n",
    "\n",
    "### Solution Criteria\n",
    "\n",
    "1. Create a table that contains **ALL** rows from the two tables. Avoid using `WHERE` in the `CREATE TABLE` statement to filter data, ensuring the table's adaptability to other conditions.\n",
    "\n",
    "2. Your query must return the same rows and all columns as the unoptimized query. Do NOT change the order of rows and columns such as by using `ORDER BY` in your SQL statement.\n",
    "\n",
    "3. Do not drop any tables or rows in the provided database.\n",
    "\n",
    "4. In this task, you **CANNOT** use the optimizations discussed in the Datatype primer.\n",
    "\n",
    "5. Your query’s “query_cost” must be below 1000.00.\n",
    "\n",
    "### Solution Verification\n",
    "\n",
    "Replace your optimized **SELECT** query **within the multiline comment section** in the cell below **with the semicolon**. (Do NOT use COUNT, LIMIT or EXPLAIN.)\n",
    "\n",
    "Example:\n",
    "```\n",
    "# enter your optimized query\n",
    "\"\"\"\n",
    "SELECT first_name, last_name FROM employees;\n",
    "\"\"\"\n",
    "``` \n",
    "\n",
    "If your query spans multiple lines, **include backslash(\\\\)** at the end of the line.\n",
    "\n",
    "Example:\n",
    "```\n",
    "# enter your optimized query\n",
    "\"\"\"\n",
    "SELECT e.first_name, e.last_name, d.dept_name FROM \\\n",
    "employees e INNER JOIN dept_emp_list d \\\n",
    "ON e.emp_no=d.emp_no;\n",
    "\"\"\"\n",
    "```\n",
    " \n",
    "**Warning:** Do NOT add other SQL statements (even if you comment it out) or other multiline comment section to the cell. This may break the grader!\n",
    "\n",
    "Run the **Testing Task 2** cell to run local test and get feedback.\n",
    "\n",
    "The local test can be run multiple times if necessary."
   ]
  },
  {
   "cell_type": "code",
   "execution_count": null,
   "metadata": {
    "tags": [
     "task2"
    ]
   },
   "outputs": [],
   "source": [
    "# enter your optimized query\n",
    "\"\"\"\n",
    "Your SELECT query;\n",
    "\"\"\""
   ]
  },
  {
   "cell_type": "markdown",
   "metadata": {},
   "source": [
    "## Testing Task 2\n",
    "\n",
    "Run the cell below to test your code. The next task will be unlocked after you pass the test case.\n",
    "\n",
    "**Note**: do not add any tags to the following cell."
   ]
  },
  {
   "cell_type": "code",
   "execution_count": null,
   "metadata": {},
   "outputs": [],
   "source": [
    "import utils\n",
    "utils.grade('task2')"
   ]
  }
 ],
 "metadata": {
  "celltoolbar": "Tags",
  "kernelspec": {
   "display_name": "Python 3 (ipykernel)",
   "language": "python",
   "name": "python3"
  },
  "language_info": {
   "codemirror_mode": {
    "name": "ipython",
    "version": 3
   },
   "file_extension": ".py",
   "mimetype": "text/x-python",
   "name": "python",
   "nbconvert_exporter": "python",
   "pygments_lexer": "ipython3",
   "version": "3.10.9"
  },
  "toc": {
   "base_numbering": 1,
   "nav_menu": {},
   "number_sections": true,
   "sideBar": true,
   "skip_h1_title": true,
   "title_cell": "Table of Contents",
   "title_sidebar": "Contents",
   "toc_cell": true,
   "toc_position": {},
   "toc_section_display": true,
   "toc_window_display": false
  }
 },
 "nbformat": 4,
 "nbformat_minor": 4
}
