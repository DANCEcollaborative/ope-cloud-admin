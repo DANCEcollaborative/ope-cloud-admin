{
 "cells": [
  {
   "cell_type": "markdown",
   "id": "e5d82c0c-5f95-4069-97f0-686c69b586d9",
   "metadata": {},
   "source": [
    "# **Here's a hint** \n",
    "You should predictively scale-out shortly before 9:30am and scale-in at 4:30pm. You need to start scaling out before the 9:30am increase in activity because scaling takes some time. You will also need to have reactive scaling in place to handle bursts in activity and any other unexpected events. However, since it takes time to detect a need and then to scale out, a burst may be over before reactive scaling is completed.\n",
    "\n",
    "### **Based on this hint, would you change your response?** \n",
    "* If so, enter your revised response below. If you wish, you can copy-paste your previous response to revise it. \n",
    "* If not, enter “No” in the space below."
   ]
  },
  {
   "cell_type": "markdown",
   "id": "57cf359d-1fa4-493f-ab30-6ba94154c38f",
   "metadata": {},
   "source": [
    "Double-click ***here*** to add your response between the lines. Feel free to expand the space. Press *simultaneously* (1) the control key and (2) the enter or return key to save your work. \n",
    "- - -\n",
    "\n",
    "\n",
    "\n",
    "\n",
    "\n",
    "\n",
    "- - -"
   ]
  }
 ],
 "metadata": {
  "kernelspec": {
   "display_name": "Python 3 (ipykernel)",
   "language": "python",
   "name": "python3"
  },
  "language_info": {
   "codemirror_mode": {
    "name": "ipython",
    "version": 3
   },
   "file_extension": ".py",
   "mimetype": "text/x-python",
   "name": "python",
   "nbconvert_exporter": "python",
   "pygments_lexer": "ipython3",
   "version": "3.11.4"
  }
 },
 "nbformat": 4,
 "nbformat_minor": 5
}
