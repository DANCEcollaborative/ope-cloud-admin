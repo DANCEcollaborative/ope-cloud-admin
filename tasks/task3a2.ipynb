{
 "cells": [
  {
   "cell_type": "markdown",
   "id": "e5d82c0c-5f95-4069-97f0-686c69b586d9",
   "metadata": {},
   "source": [
    "**CONSIDER THIS APPROACH:** \n",
    "You should predictively scale-out shortly before 9:30am and scale-in at 4:30pm. You need to start scaling out before the 9:30am increase in activity because scaling takes some time. You will also need to have reactive scaling in place to handle bursts in activity and any other unexpected events. However, since it takes time to detect a need and then to scale out, a burst may be over before reactive scaling is completed.\n",
    "\n",
    "**Based on these considerations, would you change anything about your policy? If so, what? Discuss, and revise your response above if appropriate.** "
   ]
  }
 ],
 "metadata": {
  "kernelspec": {
   "display_name": "Python 3 (ipykernel)",
   "language": "python",
   "name": "python3"
  },
  "language_info": {
   "codemirror_mode": {
    "name": "ipython",
    "version": 3
   },
   "file_extension": ".py",
   "mimetype": "text/x-python",
   "name": "python",
   "nbconvert_exporter": "python",
   "pygments_lexer": "ipython3",
   "version": "3.11.4"
  }
 },
 "nbformat": 4,
 "nbformat_minor": 5
}
