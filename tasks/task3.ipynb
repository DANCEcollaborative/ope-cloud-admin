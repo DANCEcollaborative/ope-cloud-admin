{
 "cells": [
  {
   "attachments": {},
   "cell_type": "markdown",
   "metadata": {},
   "source": [
    "## Task 3\n",
    "\n",
    "You will unlock the next task after you pass the testcase.\n",
    "\n",
    "**Note**:\n",
    "* You should **only paste your SELECT query into the solution cell** below. All other querys and experiments should be done through the terminal on the database.\n",
    "* You do not need to create new cells for the task. However, if you do create new cells **DO NOT** add any tags to them."
   ]
  },
  {
   "cell_type": "markdown",
   "metadata": {},
   "source": [
    "### Scenario\n",
    "\n",
    "Design an SQL schema and queries for tracking the average salary for employees for each department. Your query must return the `emp_no`, `first_name` and `last_name` of the employees from the `Research` department who have an `avg_salary`(average salary) more than 20,000 dollars. The source data will come from three tables: `employees`, `dept_emp_list` and `salaries`. The SQL statement of the query to optimize is:\n",
    "\n",
    "```\n",
    "SELECT e.emp_no, e.first_name, e.last_name \n",
    "FROM employees e \n",
    "INNER JOIN dept_emp_list d ON e.emp_no = d.emp_no \n",
    "INNER JOIN (SELECT emp_no, avg(salary) avg_salary FROM salaries GROUP BY emp_no) s \n",
    "ON e.emp_no = s.emp_no WHERE d.dept_name=\"Research\" && s.avg_salary>20000.00;\n",
    "```\n",
    "\n",
    "An important consideration when optimizing is that employee salaries are incentive-based and vary based on performance indicators and customer deals. As a result, approximately 80% of operations on the salary table are write operations that update employee salaries.\n",
    "\n",
    "### Solution Criteria\n",
    "\n",
    "1. Create a table that contains **ALL** rows from the two tables. Avoid using `WHERE` in the `CREATE TABLE` statement to filter data, ensuring the table's adaptability to other conditions.\n",
    "\n",
    "2. Your query must return the same rows and all columns as the unoptimized query. Do NOT change the order of rows and columns such as by using `ORDER BY` in your SQL statement.\n",
    "\n",
    "3. Do not drop any tables or rows in the provided database.\n",
    "\n",
    "4. In this task, you must use **ALL** optimizations discussed in the three primers.\n",
    "\n",
    "5. Your query’s “query_cost” must be below 145000.00.\n",
    "\n",
    "### Solution Verification\n",
    "\n",
    "Replace your optimized **SELECT** query **within the multiline comment section** in the cell below **with the semicolon**. (Do NOT use COUNT, LIMIT or EXPLAIN.)\n",
    "\n",
    "Example:\n",
    "```\n",
    "# enter your optimized query\n",
    "\"\"\"\n",
    "SELECT first_name, last_name FROM employees;\n",
    "\"\"\"\n",
    "``` \n",
    "\n",
    "If your query spans multiple lines, **include backslash(\\\\)** at the end of the line.\n",
    "\n",
    "Example:\n",
    "```\n",
    "# enter your optimized query\n",
    "\"\"\"\n",
    "SELECT e.first_name, e.last_name, d.dept_name FROM \\\n",
    "employees e INNER JOIN dept_emp_list d \\\n",
    "ON e.emp_no=d.emp_no;\n",
    "\"\"\"\n",
    "```\n",
    "**Warning:** Do NOT add other SQL statements (even if you comment it out) or other multiline comment section to the cell. This may break the grader!\n",
    "\n",
    "Run the **Testing Task 3** cell to run local test and get feedback.\n",
    "\n",
    "The local test can be run multiple times if necessary."
   ]
  },
  {
   "cell_type": "code",
   "execution_count": null,
   "metadata": {
    "tags": [
     "task3"
    ]
   },
   "outputs": [],
   "source": [
    "# enter your optimized query\n",
    "\"\"\"\n",
    "Your SELECT query;\n",
    "\"\"\""
   ]
  },
  {
   "cell_type": "markdown",
   "metadata": {},
   "source": [
    "## Testing Task 3\n",
    "\n",
    "Run the cell below to test your code. The next task will be unlocked after you pass the test case.\n",
    "\n",
    "**Note**: do not add any tags to the following cell."
   ]
  },
  {
   "cell_type": "code",
   "execution_count": null,
   "metadata": {},
   "outputs": [],
   "source": [
    "import utils\n",
    "utils.grade('task3')"
   ]
  }
 ],
 "metadata": {
  "celltoolbar": "Tags",
  "kernelspec": {
   "display_name": "Python 3 (ipykernel)",
   "language": "python",
   "name": "python3"
  },
  "language_info": {
   "codemirror_mode": {
    "name": "ipython",
    "version": 3
   },
   "file_extension": ".py",
   "mimetype": "text/x-python",
   "name": "python",
   "nbconvert_exporter": "python",
   "pygments_lexer": "ipython3",
   "version": "3.10.9"
  },
  "toc": {
   "base_numbering": 1,
   "nav_menu": {},
   "number_sections": true,
   "sideBar": true,
   "skip_h1_title": true,
   "title_cell": "Table of Contents",
   "title_sidebar": "Contents",
   "toc_cell": true,
   "toc_position": {},
   "toc_section_display": true,
   "toc_window_display": false
  }
 },
 "nbformat": 4,
 "nbformat_minor": 4
}
