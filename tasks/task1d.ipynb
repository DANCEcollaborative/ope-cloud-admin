{
 "cells": [
  {
   "cell_type": "markdown",
   "id": "e5d82c0c-5f95-4069-97f0-686c69b586d9",
   "metadata": {},
   "source": [
    "*We’re always trading off cost and performance. Think about how to minimize costs while scaling in when needed and scaling out when needed.*\n",
    "\n",
    "### **For this scenario, how can you minimize costs while maintaining sufficient performance? Decide on a general plan.**"
   ]
  },
  {
   "cell_type": "markdown",
   "id": "e3355c56-6af6-44ec-9e2d-364e083f6d6d",
   "metadata": {},
   "source": [
    "Double-click ***here*** to add your response between the lines. Feel free to expand the space. Press *simultaneously* (1) the control key and (2) the enter or return key to save your work. \n",
    "- - -\n",
    "\n",
    "\n",
    "\n",
    "\n",
    "\n",
    "\n",
    "- - -"
   ]
  }
 ],
 "metadata": {
  "kernelspec": {
   "display_name": "Python 3 (ipykernel)",
   "language": "python",
   "name": "python3"
  },
  "language_info": {
   "codemirror_mode": {
    "name": "ipython",
    "version": 3
   },
   "file_extension": ".py",
   "mimetype": "text/x-python",
   "name": "python",
   "nbconvert_exporter": "python",
   "pygments_lexer": "ipython3",
   "version": "3.11.4"
  }
 },
 "nbformat": 4,
 "nbformat_minor": 5
}
