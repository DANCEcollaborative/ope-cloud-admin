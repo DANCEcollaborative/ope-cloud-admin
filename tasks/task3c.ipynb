{
 "cells": [
  {
   "cell_type": "markdown",
   "metadata": {},
   "source": [
    "#### *Remember that we aggregate metrics over relatively short periods of time when changes are likely to occur quickly and we must react quickly. Otherwise, we can aggregate metrics over longer periods of time.*\n",
    "\n",
    "### **Scenario 3, Question 3 of 4**\n",
    "\n",
    "### **For this scenario, should you aggregate workload and performance metrics over relatively short or long periods of time? Explain.**"
   ]
  },
  {
   "cell_type": "markdown",
   "metadata": {
    "tags": [
     "task3c"
    ]
   },
   "source": [
    "Double-click ***here*** to add your response between the lines. Feel free to expand the space. To save your work, press *simultaneously* (1) the control key and (2) the enter or return key. \n",
    "- - -\n",
    "\n",
    "\n",
    "\n",
    "\n",
    "\n",
    "\n",
    "- - -"
   ]
  }
 ],
 "metadata": {
  "kernelspec": {
   "display_name": "Python 3 (ipykernel)",
   "language": "python",
   "name": "python3"
  },
  "language_info": {
   "codemirror_mode": {
    "name": "ipython",
    "version": 3
   },
   "file_extension": ".py",
   "mimetype": "text/x-python",
   "name": "python",
   "nbconvert_exporter": "python",
   "pygments_lexer": "ipython3",
   "version": "3.11.4"
  }
 },
 "nbformat": 4,
 "nbformat_minor": 4
}
