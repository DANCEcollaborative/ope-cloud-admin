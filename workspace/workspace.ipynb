{
 "cells": [
  {
   "cell_type": "markdown",
   "metadata": {},
   "source": [
    "# Introduction\n",
    "\n",
    "Following are some points about scaling and elasticity within cloud computing that you will find helpful as you do this activity.\n",
    "\n",
    "* **Scaling in or out takes time:** You may recall that scaling up or down takes time: To resize a VM, it must first be stopped, resulting in downtime. While scaling in or out does not require stopping the VM(s), ***scaling in or out takes some time too***. First, if you are scaling reactively, it takes time to detect that scaling is necessary (see more about that below). Second, when scaling out, it takes time to provision and start new VMs; conversely, when scaling in (removing VMs), it takes time to complete all of the VMs’ outstanding requests and deregister them.  \n",
    "* **Workload and performance metrics take time and resources:** Processes that measure workload and/or performance, then decide whether a scaling operation is necessary, require compute time and resources as well. Furthermore, these metrics must be assessed over periods of time to avoid making snap decisions based on a single value which may be an outlier. Thus, these computations take time and resources which must be paid for. \n",
    "* **Workload and performance metrics may be aggregated over varying periods o f time.** The time periods over which workload and performance metrics should be assessed may vary by situation. Measuring over a period of time smooths out rapid fluctuations that could occur if measures were assessed based on single instances. The amount of time over which to aggregate measures depends on the characteristics of the workload and the performance needs of the application. If sustained changes in workload demands are likely to occur quickly and high performance is important, then measures must be aggregated over relatively short periods of time. Conversely, if neither of these is the case, resources can be saved by aggregating over longer periods of time. \n",
    "* **Throttling can be a temporary alternative for scaling.** As described above, any type of scaling takes time. While waiting for an increase in resources to take effect, you may be able to ***throttle*** some services to preserve resources for more important services. For instance, you might limit the amount of resources that any one individual can use, or delay services like report generation. If there is a sudden but brief burst in demand, throttling may be the only action you need to take since the demand may have passed by the time additional resources would be available. \n"
   ]
  }
 ],
 "metadata": {
  "kernelspec": {
   "display_name": "Python 3 (ipykernel)",
   "language": "python",
   "name": "python3"
  },
  "language_info": {
   "codemirror_mode": {
    "name": "ipython",
    "version": 3
   },
   "file_extension": ".py",
   "mimetype": "text/x-python",
   "name": "python",
   "nbconvert_exporter": "python",
   "pygments_lexer": "ipython3",
   "version": "3.11.4"
  },
  "toc": {
   "base_numbering": 1,
   "nav_menu": {},
   "number_sections": true,
   "sideBar": true,
   "skip_h1_title": true,
   "title_cell": "Table of Contents",
   "title_sidebar": "Contents",
   "toc_cell": true,
   "toc_position": {},
   "toc_section_display": true,
   "toc_window_display": false
  }
 },
 "nbformat": 4,
 "nbformat_minor": 4
}
