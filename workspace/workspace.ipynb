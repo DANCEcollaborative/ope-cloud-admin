{
 "cells": [
  {
   "cell_type": "markdown",
   "metadata": {},
   "source": [
    "# Phase 2 MySQL OPE\n",
    "Welcome to the Team Project, Phase 2 MySQL OPE. In this task, you will use MySQL shell to perform operations on provided datasets. You will experience the usage of indexing, different data types, and normalization & denormalization techniques.\n",
    "\n",
    "In this session, you will solve 3 tasks. Each task is unlocked by the bot when the previous task is completed or the time limit for the previous task is exceeded.\n",
    "\n",
    "**Warning:** Do NOT add other SQL statement to the task cells even if you comment it out. This may break the grader!"
   ]
  },
  {
   "cell_type": "markdown",
   "metadata": {},
   "source": [
    "### Connect to MySQL\n",
    "\n",
    "1. Open New Terminal.\n",
    "    1. Click **File** in the Menu bar and select **New Launcher**.\n",
    "    \n",
    "    2. Under **Other** click on the **Terminal** icon.\n",
    "\n",
    "2. Install mysql client with the below command.\n",
    "\n",
    "```\n",
    "sudo apt-get -y update && sudo apt-get -y install mysql-client\n",
    "```\n",
    "\n",
    "**Warning**: We have granted sudo access only for installing mysql-client. Please be cautious of the security risk and **DO NOT** install any other packages in the environment.\n",
    "\n",
    "3. Connect with the mysql client using below command and password `CloudCC@100`\n",
    "\n",
    "```\n",
    "mysql -u root -p -h 127.0.0.1\n",
    "```\n",
    "\n",
    "4. Within MySQL, use database `employees`."
   ]
  },
  {
   "cell_type": "markdown",
   "metadata": {},
   "source": [
    "**Caution**: Only **one team member** should run the mysql commands on the terminal. Running commands in parallel can corrupt the database and there is no way to fall back to the previous state of the database."
   ]
  }
 ],
 "metadata": {
  "kernelspec": {
   "display_name": "Python 3 (ipykernel)",
   "language": "python",
   "name": "python3"
  },
  "language_info": {
   "codemirror_mode": {
    "name": "ipython",
    "version": 3
   },
   "file_extension": ".py",
   "mimetype": "text/x-python",
   "name": "python",
   "nbconvert_exporter": "python",
   "pygments_lexer": "ipython3",
   "version": "3.10.9"
  },
  "toc": {
   "base_numbering": 1,
   "nav_menu": {},
   "number_sections": true,
   "sideBar": true,
   "skip_h1_title": true,
   "title_cell": "Table of Contents",
   "title_sidebar": "Contents",
   "toc_cell": true,
   "toc_position": {},
   "toc_section_display": true,
   "toc_window_display": false
  }
 },
 "nbformat": 4,
 "nbformat_minor": 2
}
